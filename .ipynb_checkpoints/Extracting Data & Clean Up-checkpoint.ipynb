{
 "cells": [
  {
   "cell_type": "code",
   "execution_count": 1,
   "metadata": {},
   "outputs": [
    {
     "name": "stdout",
     "output_type": "stream",
     "text": [
      "Requirement already satisfied: kagglehub in /Library/Frameworks/Python.framework/Versions/3.13/lib/python3.13/site-packages (0.3.7)\n",
      "Requirement already satisfied: model-signing in /Library/Frameworks/Python.framework/Versions/3.13/lib/python3.13/site-packages (from kagglehub) (0.2.0)\n",
      "Requirement already satisfied: packaging in /Users/catalinamalinowski/Library/Python/3.13/lib/python/site-packages (from kagglehub) (24.2)\n",
      "Requirement already satisfied: requests in /Library/Frameworks/Python.framework/Versions/3.13/lib/python3.13/site-packages (from kagglehub) (2.32.3)\n",
      "Requirement already satisfied: tqdm in /Library/Frameworks/Python.framework/Versions/3.13/lib/python3.13/site-packages (from kagglehub) (4.67.1)\n",
      "Requirement already satisfied: cryptography in /Library/Frameworks/Python.framework/Versions/3.13/lib/python3.13/site-packages (from model-signing->kagglehub) (44.0.0)\n",
      "Requirement already satisfied: in-toto-attestation in /Library/Frameworks/Python.framework/Versions/3.13/lib/python3.13/site-packages (from model-signing->kagglehub) (0.9.3)\n",
      "Requirement already satisfied: sigstore in /Library/Frameworks/Python.framework/Versions/3.13/lib/python3.13/site-packages (from model-signing->kagglehub) (3.6.1)\n",
      "Requirement already satisfied: typing-extensions in /Library/Frameworks/Python.framework/Versions/3.13/lib/python3.13/site-packages (from model-signing->kagglehub) (4.12.2)\n",
      "Requirement already satisfied: charset-normalizer<4,>=2 in /Library/Frameworks/Python.framework/Versions/3.13/lib/python3.13/site-packages (from requests->kagglehub) (3.4.1)\n",
      "Requirement already satisfied: idna<4,>=2.5 in /Library/Frameworks/Python.framework/Versions/3.13/lib/python3.13/site-packages (from requests->kagglehub) (3.10)\n",
      "Requirement already satisfied: urllib3<3,>=1.21.1 in /Library/Frameworks/Python.framework/Versions/3.13/lib/python3.13/site-packages (from requests->kagglehub) (2.3.0)\n",
      "Requirement already satisfied: certifi>=2017.4.17 in /Library/Frameworks/Python.framework/Versions/3.13/lib/python3.13/site-packages (from requests->kagglehub) (2025.1.31)\n",
      "Requirement already satisfied: cffi>=1.12 in /Library/Frameworks/Python.framework/Versions/3.13/lib/python3.13/site-packages (from cryptography->model-signing->kagglehub) (1.17.1)\n",
      "Requirement already satisfied: protobuf in /Library/Frameworks/Python.framework/Versions/3.13/lib/python3.13/site-packages (from in-toto-attestation->model-signing->kagglehub) (5.29.3)\n",
      "Requirement already satisfied: id>=1.1.0 in /Library/Frameworks/Python.framework/Versions/3.13/lib/python3.13/site-packages (from sigstore->model-signing->kagglehub) (1.5.0)\n",
      "Requirement already satisfied: pyasn1~=0.6 in /Library/Frameworks/Python.framework/Versions/3.13/lib/python3.13/site-packages (from sigstore->model-signing->kagglehub) (0.6.1)\n",
      "Requirement already satisfied: pydantic<3,>=2 in /Library/Frameworks/Python.framework/Versions/3.13/lib/python3.13/site-packages (from sigstore->model-signing->kagglehub) (2.10.6)\n",
      "Requirement already satisfied: pyjwt>=2.1 in /Library/Frameworks/Python.framework/Versions/3.13/lib/python3.13/site-packages (from sigstore->model-signing->kagglehub) (2.10.1)\n",
      "Requirement already satisfied: pyOpenSSL>=23.0.0 in /Library/Frameworks/Python.framework/Versions/3.13/lib/python3.13/site-packages (from sigstore->model-signing->kagglehub) (25.0.0)\n",
      "Requirement already satisfied: rich~=13.0 in /Library/Frameworks/Python.framework/Versions/3.13/lib/python3.13/site-packages (from sigstore->model-signing->kagglehub) (13.9.4)\n",
      "Requirement already satisfied: rfc8785~=0.1.2 in /Library/Frameworks/Python.framework/Versions/3.13/lib/python3.13/site-packages (from sigstore->model-signing->kagglehub) (0.1.4)\n",
      "Requirement already satisfied: rfc3161-client~=0.1.2 in /Library/Frameworks/Python.framework/Versions/3.13/lib/python3.13/site-packages (from sigstore->model-signing->kagglehub) (0.1.2)\n",
      "Requirement already satisfied: sigstore-protobuf-specs==0.3.2 in /Library/Frameworks/Python.framework/Versions/3.13/lib/python3.13/site-packages (from sigstore->model-signing->kagglehub) (0.3.2)\n",
      "Requirement already satisfied: sigstore-rekor-types==0.0.18 in /Library/Frameworks/Python.framework/Versions/3.13/lib/python3.13/site-packages (from sigstore->model-signing->kagglehub) (0.0.18)\n",
      "Requirement already satisfied: tuf~=5.0 in /Library/Frameworks/Python.framework/Versions/3.13/lib/python3.13/site-packages (from sigstore->model-signing->kagglehub) (5.1.0)\n",
      "Requirement already satisfied: platformdirs~=4.2 in /Users/catalinamalinowski/Library/Python/3.13/lib/python/site-packages (from sigstore->model-signing->kagglehub) (4.3.6)\n",
      "Requirement already satisfied: betterproto==2.0.0b6 in /Library/Frameworks/Python.framework/Versions/3.13/lib/python3.13/site-packages (from sigstore-protobuf-specs==0.3.2->sigstore->model-signing->kagglehub) (2.0.0b6)\n",
      "Requirement already satisfied: grpclib<0.5.0,>=0.4.1 in /Library/Frameworks/Python.framework/Versions/3.13/lib/python3.13/site-packages (from betterproto==2.0.0b6->sigstore-protobuf-specs==0.3.2->sigstore->model-signing->kagglehub) (0.4.7)\n",
      "Requirement already satisfied: python-dateutil<3.0,>=2.8 in /Users/catalinamalinowski/Library/Python/3.13/lib/python/site-packages (from betterproto==2.0.0b6->sigstore-protobuf-specs==0.3.2->sigstore->model-signing->kagglehub) (2.9.0.post0)\n",
      "Requirement already satisfied: pycparser in /Library/Frameworks/Python.framework/Versions/3.13/lib/python3.13/site-packages (from cffi>=1.12->cryptography->model-signing->kagglehub) (2.22)\n",
      "Requirement already satisfied: annotated-types>=0.6.0 in /Library/Frameworks/Python.framework/Versions/3.13/lib/python3.13/site-packages (from pydantic<3,>=2->sigstore->model-signing->kagglehub) (0.7.0)\n",
      "Requirement already satisfied: pydantic-core==2.27.2 in /Library/Frameworks/Python.framework/Versions/3.13/lib/python3.13/site-packages (from pydantic<3,>=2->sigstore->model-signing->kagglehub) (2.27.2)\n",
      "Requirement already satisfied: markdown-it-py>=2.2.0 in /Library/Frameworks/Python.framework/Versions/3.13/lib/python3.13/site-packages (from rich~=13.0->sigstore->model-signing->kagglehub) (3.0.0)\n",
      "Requirement already satisfied: pygments<3.0.0,>=2.13.0 in /Users/catalinamalinowski/Library/Python/3.13/lib/python/site-packages (from rich~=13.0->sigstore->model-signing->kagglehub) (2.18.0)\n",
      "Requirement already satisfied: securesystemslib~=1.0 in /Library/Frameworks/Python.framework/Versions/3.13/lib/python3.13/site-packages (from tuf~=5.0->sigstore->model-signing->kagglehub) (1.2.0)\n",
      "Requirement already satisfied: mdurl~=0.1 in /Library/Frameworks/Python.framework/Versions/3.13/lib/python3.13/site-packages (from markdown-it-py>=2.2.0->rich~=13.0->sigstore->model-signing->kagglehub) (0.1.2)\n",
      "Requirement already satisfied: email-validator>=2.0.0 in /Library/Frameworks/Python.framework/Versions/3.13/lib/python3.13/site-packages (from pydantic[email]<3,>=2->sigstore-rekor-types==0.0.18->sigstore->model-signing->kagglehub) (2.2.0)\n",
      "Requirement already satisfied: dnspython>=2.0.0 in /Library/Frameworks/Python.framework/Versions/3.13/lib/python3.13/site-packages (from email-validator>=2.0.0->pydantic[email]<3,>=2->sigstore-rekor-types==0.0.18->sigstore->model-signing->kagglehub) (2.7.0)\n",
      "Requirement already satisfied: h2<5,>=3.1.0 in /Library/Frameworks/Python.framework/Versions/3.13/lib/python3.13/site-packages (from grpclib<0.5.0,>=0.4.1->betterproto==2.0.0b6->sigstore-protobuf-specs==0.3.2->sigstore->model-signing->kagglehub) (4.2.0)\n",
      "Requirement already satisfied: multidict in /Library/Frameworks/Python.framework/Versions/3.13/lib/python3.13/site-packages (from grpclib<0.5.0,>=0.4.1->betterproto==2.0.0b6->sigstore-protobuf-specs==0.3.2->sigstore->model-signing->kagglehub) (6.1.0)\n",
      "Requirement already satisfied: six>=1.5 in /Users/catalinamalinowski/Library/Python/3.13/lib/python/site-packages (from python-dateutil<3.0,>=2.8->betterproto==2.0.0b6->sigstore-protobuf-specs==0.3.2->sigstore->model-signing->kagglehub) (1.16.0)\n",
      "Requirement already satisfied: hyperframe<7,>=6.1 in /Library/Frameworks/Python.framework/Versions/3.13/lib/python3.13/site-packages (from h2<5,>=3.1.0->grpclib<0.5.0,>=0.4.1->betterproto==2.0.0b6->sigstore-protobuf-specs==0.3.2->sigstore->model-signing->kagglehub) (6.1.0)\n",
      "Requirement already satisfied: hpack<5,>=4.1 in /Library/Frameworks/Python.framework/Versions/3.13/lib/python3.13/site-packages (from h2<5,>=3.1.0->grpclib<0.5.0,>=0.4.1->betterproto==2.0.0b6->sigstore-protobuf-specs==0.3.2->sigstore->model-signing->kagglehub) (4.1.0)\n",
      "\n",
      "\u001b[1m[\u001b[0m\u001b[34;49mnotice\u001b[0m\u001b[1;39;49m]\u001b[0m\u001b[39;49m A new release of pip is available: \u001b[0m\u001b[31;49m24.2\u001b[0m\u001b[39;49m -> \u001b[0m\u001b[32;49m25.0.1\u001b[0m\n",
      "\u001b[1m[\u001b[0m\u001b[34;49mnotice\u001b[0m\u001b[1;39;49m]\u001b[0m\u001b[39;49m To update, run: \u001b[0m\u001b[32;49mpip3 install --upgrade pip\u001b[0m\n",
      "Note: you may need to restart the kernel to use updated packages.\n"
     ]
    }
   ],
   "source": [
    "pip install kagglehub\n"
   ]
  },
  {
   "cell_type": "code",
   "execution_count": null,
   "metadata": {},
   "outputs": [],
   "source": [
    "pip install kagglehub\n",
    "\n",
    "import kagglehub\n",
    "# Download latest version\n",
    "\n",
    "path = kagglehub.dataset_download(\"vincentvaseghi/us-cities-housing-market-data\")\n",
    "print(\"Path to dataset files:\", path)\n"
   ]
  },
  {
   "cell_type": "code",
   "execution_count": 2,
   "metadata": {},
   "outputs": [
    {
     "name": "stderr",
     "output_type": "stream",
     "text": [
      "/Library/Frameworks/Python.framework/Versions/3.13/lib/python3.13/site-packages/tqdm/auto.py:21: TqdmWarning: IProgress not found. Please update jupyter and ipywidgets. See https://ipywidgets.readthedocs.io/en/stable/user_install.html\n",
      "  from .autonotebook import tqdm as notebook_tqdm\n"
     ]
    },
    {
     "name": "stdout",
     "output_type": "stream",
     "text": [
      "Path to dataset files: /Users/catalinamalinowski/.cache/kagglehub/datasets/vincentvaseghi/us-cities-housing-market-data/versions/33\n"
     ]
    }
   ],
   "source": [
    "import kagglehub\n",
    "# Download latest version\n",
    "path = kagglehub.dataset_download(\"vincentvaseghi/us-cities-housing-market-data\")\n",
    "print(\"Path to dataset files:\", path)"
   ]
  },
  {
   "cell_type": "code",
   "execution_count": 3,
   "metadata": {},
   "outputs": [
    {
     "name": "stdout",
     "output_type": "stream",
     "text": [
      "Requirement already satisfied: pandas in /Library/Frameworks/Python.framework/Versions/3.13/lib/python3.13/site-packages (2.2.3)\n",
      "Requirement already satisfied: numpy>=1.26.0 in /Library/Frameworks/Python.framework/Versions/3.13/lib/python3.13/site-packages (from pandas) (2.2.2)\n",
      "Requirement already satisfied: python-dateutil>=2.8.2 in /Users/catalinamalinowski/Library/Python/3.13/lib/python/site-packages (from pandas) (2.9.0.post0)\n",
      "Requirement already satisfied: pytz>=2020.1 in /Library/Frameworks/Python.framework/Versions/3.13/lib/python3.13/site-packages (from pandas) (2025.1)\n",
      "Requirement already satisfied: tzdata>=2022.7 in /Library/Frameworks/Python.framework/Versions/3.13/lib/python3.13/site-packages (from pandas) (2025.1)\n",
      "Requirement already satisfied: six>=1.5 in /Users/catalinamalinowski/Library/Python/3.13/lib/python/site-packages (from python-dateutil>=2.8.2->pandas) (1.16.0)\n",
      "\n",
      "\u001b[1m[\u001b[0m\u001b[34;49mnotice\u001b[0m\u001b[1;39;49m]\u001b[0m\u001b[39;49m A new release of pip is available: \u001b[0m\u001b[31;49m24.2\u001b[0m\u001b[39;49m -> \u001b[0m\u001b[32;49m25.0.1\u001b[0m\n",
      "\u001b[1m[\u001b[0m\u001b[34;49mnotice\u001b[0m\u001b[1;39;49m]\u001b[0m\u001b[39;49m To update, run: \u001b[0m\u001b[32;49mpip3 install --upgrade pip\u001b[0m\n",
      "Note: you may need to restart the kernel to use updated packages.\n"
     ]
    }
   ],
   "source": [
    "pip install pandas"
   ]
  },
  {
   "cell_type": "code",
   "execution_count": 5,
   "metadata": {},
   "outputs": [
    {
     "name": "stdout",
     "output_type": "stream",
     "text": [
      "['city_market_tracker.tsv000']\n"
     ]
    }
   ],
   "source": [
    "import os\n",
    "\n",
    "directory_path = \"/Users/catalinamalinowski/.cache/kagglehub/datasets/vincentvaseghi/us-cities-housing-market-data/versions/33\"\n",
    "print(os.listdir(directory_path))\n"
   ]
  },
  {
   "cell_type": "code",
   "execution_count": 12,
   "metadata": {},
   "outputs": [],
   "source": [
    "file_path = \"/Users/catalinamalinowski/.cache/kagglehub/datasets/vincentvaseghi/us-cities-housing-market-data/versions/33/city_market_tracker.tsv000\"  # Replace with actual file name\n",
    "import pandas as pd\n",
    "df = pd.read_csv(file_path, delimiter=\"\\t\")  # Ensure the correct delimiter\n"
   ]
  },
  {
   "cell_type": "code",
   "execution_count": 14,
   "metadata": {},
   "outputs": [
    {
     "name": "stdout",
     "output_type": "stream",
     "text": [
      "  period_begin  period_end  period_duration region_type  region_type_id  \\\n",
      "0   2016-07-01  2016-07-31               30       place               6   \n",
      "1   2014-01-01  2014-01-31               30       place               6   \n",
      "2   2019-04-01  2019-04-30               30       place               6   \n",
      "3   2017-04-01  2017-04-30               30       place               6   \n",
      "4   2020-07-01  2020-07-31               30       place               6   \n",
      "\n",
      "   table_id is_seasonally_adjusted                 region               city  \\\n",
      "0      9989                      f       Liberty Lake, WA       Liberty Lake   \n",
      "1      5334                      f           Edgewood, WA           Edgewood   \n",
      "2     26576                      f  White Meadow Lake, NJ  White Meadow Lake   \n",
      "3      5544                      f          Englewood, NJ          Englewood   \n",
      "4     21435                      f          Belvedere, SC          Belvedere   \n",
      "\n",
      "            state  ... sold_above_list_yoy price_drops  price_drops_mom  \\\n",
      "0      Washington  ...            0.000000         NaN              NaN   \n",
      "1      Washington  ...            0.714286    0.264706         0.204100   \n",
      "2      New Jersey  ...           -0.100000    0.290323         0.118894   \n",
      "3      New Jersey  ...            0.086957    0.165803        -0.035255   \n",
      "4  South Carolina  ...            0.750000         NaN              NaN   \n",
      "\n",
      "   price_drops_yoy  off_market_in_two_weeks  off_market_in_two_weeks_mom  \\\n",
      "0              NaN                 0.000000                     0.000000   \n",
      "1         0.178992                 0.222222                     0.222222   \n",
      "2         0.132428                 0.000000                     0.000000   \n",
      "3        -0.034197                 0.138889                     0.069923   \n",
      "4              NaN                 0.000000                     0.000000   \n",
      "\n",
      "   off_market_in_two_weeks_yoy  parent_metro_region  \\\n",
      "0                     0.000000          Spokane, WA   \n",
      "1                     0.055556           Tacoma, WA   \n",
      "2                     0.000000           Newark, NJ   \n",
      "3                     0.098889         New York, NY   \n",
      "4                     0.000000          Augusta, GA   \n",
      "\n",
      "   parent_metro_region_metro_code         last_updated  \n",
      "0                           44060  2025-01-13 14:16:48  \n",
      "1                           45104  2025-01-13 14:16:48  \n",
      "2                           35084  2025-01-13 14:16:48  \n",
      "3                           35614  2025-01-13 14:16:48  \n",
      "4                           12260  2025-01-13 14:16:48  \n",
      "\n",
      "[5 rows x 58 columns]\n"
     ]
    }
   ],
   "source": [
    "print(df.head()) # Print the first few rows"
   ]
  },
  {
   "cell_type": "code",
   "execution_count": 15,
   "metadata": {},
   "outputs": [
    {
     "ename": "NameError",
     "evalue": "name 'data' is not defined",
     "output_type": "error",
     "traceback": [
      "\u001b[0;31m---------------------------------------------------------------------------\u001b[0m",
      "\u001b[0;31mNameError\u001b[0m                                 Traceback (most recent call last)",
      "Cell \u001b[0;32mIn[15], line 2\u001b[0m\n\u001b[1;32m      1\u001b[0m \u001b[38;5;66;03m# List all keys\u001b[39;00m\n\u001b[0;32m----> 2\u001b[0m \u001b[38;5;28mprint\u001b[39m(\u001b[43mdata\u001b[49m\u001b[38;5;241m.\u001b[39mkeys())  \u001b[38;5;66;03m# Output: dict_keys(['name', 'age', 'city'])\u001b[39;00m\n\u001b[1;32m      4\u001b[0m \u001b[38;5;66;03m# List all values\u001b[39;00m\n\u001b[1;32m      5\u001b[0m \u001b[38;5;28mprint\u001b[39m(data\u001b[38;5;241m.\u001b[39mvalues())  \u001b[38;5;66;03m# Output: dict_values(['Alice', 30, 'New York'])\u001b[39;00m\n",
      "\u001b[0;31mNameError\u001b[0m: name 'data' is not defined"
     ]
    },
    {
     "name": "stdout",
     "output_type": "stream",
     "text": [
      "Index(['period_begin', 'period_end', 'period_duration', 'region_type',\n",
      "       'region_type_id', 'table_id', 'is_seasonally_adjusted', 'region',\n",
      "       'city', 'state', 'state_code', 'property_type', 'property_type_id',\n",
      "       'median_sale_price', 'median_sale_price_mom', 'median_sale_price_yoy',\n",
      "       'median_list_price', 'median_list_price_mom', 'median_list_price_yoy',\n",
      "       'median_ppsf', 'median_ppsf_mom', 'median_ppsf_yoy', 'median_list_ppsf',\n",
      "       'median_list_ppsf_mom', 'median_list_ppsf_yoy', 'homes_sold',\n",
      "       'homes_sold_mom', 'homes_sold_yoy', 'pending_sales',\n",
      "       'pending_sales_mom', 'pending_sales_yoy', 'new_listings',\n",
      "       'new_listings_mom', 'new_listings_yoy', 'inventory', 'inventory_mom',\n",
      "       'inventory_yoy', 'months_of_supply', 'months_of_supply_mom',\n",
      "       'months_of_supply_yoy', 'median_dom', 'median_dom_mom',\n",
      "       'median_dom_yoy', 'avg_sale_to_list', 'avg_sale_to_list_mom',\n",
      "       'avg_sale_to_list_yoy', 'sold_above_list', 'sold_above_list_mom',\n",
      "       'sold_above_list_yoy', 'price_drops', 'price_drops_mom',\n",
      "       'price_drops_yoy', 'off_market_in_two_weeks',\n",
      "       'off_market_in_two_weeks_mom', 'off_market_in_two_weeks_yoy',\n",
      "       'parent_metro_region', 'parent_metro_region_metro_code',\n",
      "       'last_updated'],\n",
      "      dtype='object')\n"
     ]
    }
   ],
   "source": [
    "# List all keys\n",
    "print(df.keys())  # Output: dict_keys(['name', 'age', 'city'])\n",
    "\n",
    "\n"
   ]
  }
 ],
 "metadata": {
  "kernelspec": {
   "display_name": "Python 3",
   "language": "python",
   "name": "python3"
  },
  "language_info": {
   "codemirror_mode": {
    "name": "ipython",
    "version": 3
   },
   "file_extension": ".py",
   "mimetype": "text/x-python",
   "name": "python",
   "nbconvert_exporter": "python",
   "pygments_lexer": "ipython3",
   "version": "3.13.0"
  }
 },
 "nbformat": 4,
 "nbformat_minor": 2
}
